{
  "nbformat": 4,
  "nbformat_minor": 0,
  "metadata": {
    "colab": {
      "provenance": [],
      "authorship_tag": "ABX9TyNMUux9sD4q8E57G79zyR0C",
      "include_colab_link": true
    },
    "kernelspec": {
      "name": "python3",
      "display_name": "Python 3"
    },
    "language_info": {
      "name": "python"
    }
  },
  "cells": [
    {
      "cell_type": "markdown",
      "metadata": {
        "id": "view-in-github",
        "colab_type": "text"
      },
      "source": [
        "<a href=\"https://colab.research.google.com/github/tuannguyen1291/Dictionary/blob/main/Dictionary.ipynb\" target=\"_parent\"><img src=\"https://colab.research.google.com/assets/colab-badge.svg\" alt=\"Open In Colab\"/></a>"
      ]
    },
    {
      "cell_type": "markdown",
      "source": [
        "##Câu 1"
      ],
      "metadata": {
        "id": "LscK-9p7cUvr"
      }
    },
    {
      "cell_type": "code",
      "execution_count": null,
      "metadata": {
        "colab": {
          "base_uri": "https://localhost:8080/"
        },
        "id": "YEZ3AEbXXfqm",
        "outputId": "c78ae39e-80e9-4a49-894c-ed10263bdb47"
      },
      "outputs": [
        {
          "output_type": "stream",
          "name": "stdout",
          "text": [
            "Dell\n",
            "{'producer': 'Dell', 'model': 'Inspiron', 'year': 2017}\n"
          ]
        }
      ],
      "source": [
        "d={\n",
        "    \"producer\":\"Dell\",\n",
        "   \"model\":\"Inspiron\",\n",
        "   \"year\": 2017\n",
        "}\n",
        "print(d[\"producer\"])\n",
        "print(d)"
      ]
    },
    {
      "cell_type": "markdown",
      "source": [
        "##Câu 2"
      ],
      "metadata": {
        "id": "GFio5_u7cX2f"
      }
    },
    {
      "cell_type": "code",
      "source": [
        "d={\n",
        "    \"producer\":\"Dell\",\n",
        "   \"model\":\"Inspiron\",\n",
        "   \"year\": 2017,\n",
        "   \"colors\":[\"red\",\"white\",\"blue\"]\n",
        "}\n",
        "print(d[\"colors\"])\n",
        "d[\"producer\"]=\"Google Inc\"\n",
        "print(d)"
      ],
      "metadata": {
        "colab": {
          "base_uri": "https://localhost:8080/"
        },
        "id": "EqcyCoI_cZ9T",
        "outputId": "b1a7d9f3-80d6-47cf-d1b7-67085ecf9cb7"
      },
      "execution_count": null,
      "outputs": [
        {
          "output_type": "stream",
          "name": "stdout",
          "text": [
            "['red', 'white', 'blue']\n",
            "{'producer': 'Google Inc', 'model': 'Inspiron', 'year': 2017, 'colors': ['red', 'white', 'blue']}\n"
          ]
        }
      ]
    },
    {
      "cell_type": "markdown",
      "source": [
        "## Câu 3"
      ],
      "metadata": {
        "id": "pfGjsv9ldiBE"
      }
    },
    {
      "cell_type": "code",
      "source": [
        "import json\n",
        "d={\n",
        "    \"producer\":\"Dell\",\n",
        "   \"model\":\"Inspiron\",\n",
        "   \"year\": 2017,\n",
        "   \"colors\":[\"red\",\"white\",\"blue\"]\n",
        "}\n",
        "#Chuyển sang định dạng JSON\n",
        "a=json.dumps(d)\n",
        "print(a)"
      ],
      "metadata": {
        "colab": {
          "base_uri": "https://localhost:8080/"
        },
        "id": "lPiqG0MAdjkC",
        "outputId": "4bbd74d4-4710-4d63-fc51-c370ae5bcb4e"
      },
      "execution_count": null,
      "outputs": [
        {
          "output_type": "stream",
          "name": "stdout",
          "text": [
            "{\"producer\": \"Dell\", \"model\": \"Inspiron\", \"year\": 2017, \"colors\": [\"red\", \"white\", \"blue\"]}\n"
          ]
        }
      ]
    },
    {
      "cell_type": "markdown",
      "source": [
        "##Câu 4"
      ],
      "metadata": {
        "id": "Q0GEYj6Zd-6o"
      }
    },
    {
      "cell_type": "code",
      "source": [
        "from urllib.request import urlopen\n",
        "import json\n",
        "url=\"https://api.github.com/users/nguyenthaituan/repos\"\n",
        "response=urlopen(url)\n",
        "data=json.load(response)\n",
        "a=json.dumps(url)\n",
        "print(a)"
      ],
      "metadata": {
        "id": "BAoPXX5MeAfS",
        "colab": {
          "base_uri": "https://localhost:8080/"
        },
        "outputId": "0f1a02d2-3359-4f27-e717-d39fda4c76cb"
      },
      "execution_count": null,
      "outputs": [
        {
          "output_type": "stream",
          "name": "stdout",
          "text": [
            "\"https://api.github.com/users/nguyenthaituan/repos\"\n"
          ]
        }
      ]
    }
  ]
}